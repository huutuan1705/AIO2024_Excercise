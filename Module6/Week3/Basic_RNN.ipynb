{
 "cells": [
  {
   "cell_type": "code",
   "execution_count": 3,
   "metadata": {},
   "outputs": [],
   "source": [
    "import torch\n",
    "import torch.nn as nn\n",
    "\n",
    "from torchtext.data.utils import get_tokenizer\n",
    "from torchtext.vocab import build_vocab_from_iterator"
   ]
  },
  {
   "cell_type": "code",
   "execution_count": 5,
   "metadata": {},
   "outputs": [
    {
     "name": "stdout",
     "output_type": "stream",
     "text": [
      "Parameter containing:\n",
      "tensor([[-0.2400, -0.8932, -0.3848, -0.2712],\n",
      "        [-0.1950, -0.6555,  1.9995,  1.1094],\n",
      "        [-1.5092,  0.5393,  0.0919,  0.0049],\n",
      "        [ 0.7380,  1.0809, -0.2711,  0.5302],\n",
      "        [-1.1194,  0.0962, -0.2854, -1.8114],\n",
      "        [-0.3664,  0.3825,  0.4850,  0.1129],\n",
      "        [-0.4602,  2.6225,  0.4286, -0.5566],\n",
      "        [ 0.6692,  1.1172, -0.7377, -0.1927]], requires_grad=True)\n"
     ]
    }
   ],
   "source": [
    "vocab_size = 8\n",
    "embed_dim = 4\n",
    "embedding = nn.Embedding(vocab_size, embed_dim)\n",
    "\n",
    "print(embedding.weight)"
   ]
  },
  {
   "cell_type": "code",
   "execution_count": 9,
   "metadata": {},
   "outputs": [
    {
     "name": "stderr",
     "output_type": "stream",
     "text": [
      "c:\\Users\\Admin\\AppData\\Local\\Programs\\Python\\Python311\\Lib\\site-packages\\tqdm\\auto.py:21: TqdmWarning: IProgress not found. Please update jupyter and ipywidgets. See https://ipywidgets.readthedocs.io/en/stable/user_install.html\n",
      "  from .autonotebook import tqdm as notebook_tqdm\n"
     ]
    },
    {
     "name": "stdout",
     "output_type": "stream",
     "text": [
      "Parameter containing:\n",
      "tensor([[-0.2390, -0.8942, -0.3838, -0.2722],\n",
      "        [-0.1940, -0.6565,  1.9985,  1.1084],\n",
      "        [-1.5082,  0.5403,  0.0929,  0.0059],\n",
      "        [ 0.7380,  1.0809, -0.2711,  0.5302],\n",
      "        [-1.1204,  0.0952, -0.2864, -1.8124],\n",
      "        [-0.3664,  0.3825,  0.4850,  0.1129],\n",
      "        [-0.4602,  2.6225,  0.4286, -0.5566],\n",
      "        [ 0.6702,  1.1162, -0.7367, -0.1917]], requires_grad=True)\n"
     ]
    }
   ],
   "source": [
    "data = torch.tensor([0, 4, 7, 2, 1], dtype=torch.long)\n",
    "label = torch.tensor([1], dtype=torch.float)\n",
    "\n",
    "x = embedding(data)\n",
    "x = nn.Flatten(0)(x)\n",
    "x = nn.Linear(20, 1)(x)\n",
    "output = nn.Sigmoid()(x)\n",
    "\n",
    "loss = nn.BCELoss()(output, label)\n",
    "optimizer = torch.optim.Adam(embedding.parameters())\n",
    "loss.backward()\n",
    "optimizer.step()\n",
    "print(embedding.weight)"
   ]
  },
  {
   "cell_type": "code",
   "execution_count": null,
   "metadata": {},
   "outputs": [],
   "source": []
  },
  {
   "cell_type": "code",
   "execution_count": null,
   "metadata": {},
   "outputs": [],
   "source": []
  }
 ],
 "metadata": {
  "kernelspec": {
   "display_name": "Python 3",
   "language": "python",
   "name": "python3"
  },
  "language_info": {
   "codemirror_mode": {
    "name": "ipython",
    "version": 3
   },
   "file_extension": ".py",
   "mimetype": "text/x-python",
   "name": "python",
   "nbconvert_exporter": "python",
   "pygments_lexer": "ipython3",
   "version": "3.11.6"
  }
 },
 "nbformat": 4,
 "nbformat_minor": 2
}
