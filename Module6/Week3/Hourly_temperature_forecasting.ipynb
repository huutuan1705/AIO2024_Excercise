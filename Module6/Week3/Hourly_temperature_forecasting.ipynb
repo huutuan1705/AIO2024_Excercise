{
 "cells": [
  {
   "cell_type": "code",
   "execution_count": 1,
   "metadata": {},
   "outputs": [],
   "source": [
    "import torch\n",
    "import torch.nn as nn\n",
    "\n",
    "seed = 1\n",
    "torch.manual_seed(seed)\n",
    "\n",
    "import numpy as np\n",
    "import pandas as pd\n",
    "import matplotlib.pyplot as plt\n",
    "\n",
    "from torch.utils.data import Dataset, DataLoader"
   ]
  },
  {
   "cell_type": "code",
   "execution_count": null,
   "metadata": {},
   "outputs": [],
   "source": [
    "dataset_filepath = 'weatherHistory.csv'\n",
    "df = pd.read_csv(dataset_filepath)\n",
    "\n",
    "univariate_df = df['Temperature (C)']\n",
    "univariate_df.index = df['Formatted Date']"
   ]
  },
  {
   "cell_type": "code",
   "execution_count": null,
   "metadata": {},
   "outputs": [],
   "source": [
    "input_size = 6\n",
    "label_size = 1\n",
    "offset = 1\n",
    "\n",
    "def slicing_window(df, df_start_idx, df_end_idx, input_size, label_size, offset):\n",
    "    features = []\n",
    "    labels = []\n",
    "    \n",
    "    window_size = input_size + offset\n",
    "    \n",
    "    if df_end_idx == None:\n",
    "        df_end_idx = len(df) - window_size\n",
    "    \n",
    "    for idx in range(df_start_idx, df_end_idx):\n",
    "        feature_end_idx = idx + input_size\n",
    "        label_start_idx = idx + window_size - label_size\n",
    "        \n",
    "        feature = df[idx:feature_end_idx]\n",
    "        "
   ]
  },
  {
   "cell_type": "code",
   "execution_count": null,
   "metadata": {},
   "outputs": [],
   "source": []
  },
  {
   "cell_type": "code",
   "execution_count": null,
   "metadata": {},
   "outputs": [],
   "source": []
  },
  {
   "cell_type": "code",
   "execution_count": null,
   "metadata": {},
   "outputs": [],
   "source": []
  }
 ],
 "metadata": {
  "kernelspec": {
   "display_name": "Python 3",
   "language": "python",
   "name": "python3"
  },
  "language_info": {
   "codemirror_mode": {
    "name": "ipython",
    "version": 3
   },
   "file_extension": ".py",
   "mimetype": "text/x-python",
   "name": "python",
   "nbconvert_exporter": "python",
   "pygments_lexer": "ipython3",
   "version": "3.11.6"
  }
 },
 "nbformat": 4,
 "nbformat_minor": 2
}
