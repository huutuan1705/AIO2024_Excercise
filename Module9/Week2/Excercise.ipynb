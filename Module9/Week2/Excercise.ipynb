{
 "cells": [
  {
   "cell_type": "code",
   "execution_count": null,
   "metadata": {},
   "outputs": [],
   "source": [
    "!gdown 1JJjMiNieTz7xYs6UeVqd02M3DW4fnEfU\n",
    "!unzip cpvr2016_flowers.zip"
   ]
  },
  {
   "cell_type": "code",
   "execution_count": null,
   "metadata": {},
   "outputs": [],
   "source": [
    "import os\n",
    "\n",
    "def load_captions(captions_folder, image_folder):\n",
    "    captions = {}\n",
    "    image_files = os.listdir(image_folder)\n",
    "    for image_file in image_files:\n",
    "        image_name = image_file.split(\".\")[0]\n",
    "        caption_file = os.path.join(captions_folder, image_name + \".txt\")\n",
    "        with open(caption_file, \"r\") as f:\n",
    "            caption = f.readline()[0].strip()\n",
    "        if image_name not in captions:\n",
    "            captions[image_name] = caption\n",
    "    \n",
    "    return caption\n",
    "\n",
    "captions_folder = \"./cpvr2016_flowers/captions\"\n",
    "image_folder = \"./cpvr2016_flowers/images\"\n",
    "\n",
    "captions = load_captions(captions_folder, image_folder)\n",
    "captions"
   ]
  },
  {
   "cell_type": "code",
   "execution_count": null,
   "metadata": {},
   "outputs": [],
   "source": [
    "import torch\n",
    "import numpy as np\n",
    "from sentence_transformers import SentenceTransformer\n",
    "\n",
    "device = torch.device(\"cuda\" if torch.cuda.is_available() else \"cpu\")\n",
    "bert_model = SentenceTransformer(\"all-mpet-base-v2\").to(device)\n",
    "\n",
    "def encode_caption(captions):\n",
    "    encoded_captions = {}\n",
    "    for image_name in captions.keys():\n",
    "        caption = captions[image_name]\n",
    "        encoded_captions[image_name] = {\n",
    "            \"embed\": torch.tensor(bert_model.encode(caption)),\n",
    "            \"text\": caption\n",
    "        }\n",
    "    return encoded_captions\n",
    "\n",
    "encoded_captions = encode_caption(captions)"
   ]
  },
  {
   "cell_type": "code",
   "execution_count": null,
   "metadata": {},
   "outputs": [],
   "source": [
    "from PIL import Image\n",
    "from torch.utils.data import Dataset\n",
    "\n",
    "class FlowerDataset(Dataset):\n",
    "    def __init__(self, img_dir, captions, transform=None):\n",
    "        self.img_dir = img_dir\n",
    "        self.captions = captions\n",
    "        self.transform = transform\n",
    "        self.img_names = list(self.captions.keys())\n",
    "    \n",
    "    def __len__(self):\n",
    "        return len(self.img_names)\n",
    "    \n",
    "    def __getitem__(self, idx):\n",
    "        img_name = self.img_names[idx]\n",
    "        img_path = os.path.join(self.img_dir, img_name+\".jpg\")\n",
    "        image = Image.open(img_path).convert(\"RGB\")\n",
    "        if self.transform:\n",
    "            image = self.transform(image)\n",
    "        encoded_captions = self.captions[img_name][\"embed\"]\n",
    "        caption = self.captions[img_name][\"text\"]\n",
    "        \n",
    "        return {\n",
    "            \"image\": image,\n",
    "            \"embed_caption\": encoded_captions,\n",
    "            \"text\": caption\n",
    "        }"
   ]
  },
  {
   "cell_type": "code",
   "execution_count": null,
   "metadata": {},
   "outputs": [],
   "source": []
  },
  {
   "cell_type": "code",
   "execution_count": null,
   "metadata": {},
   "outputs": [],
   "source": []
  },
  {
   "cell_type": "code",
   "execution_count": null,
   "metadata": {},
   "outputs": [],
   "source": []
  },
  {
   "cell_type": "code",
   "execution_count": null,
   "metadata": {},
   "outputs": [],
   "source": []
  }
 ],
 "metadata": {
  "kernelspec": {
   "display_name": "Python 3",
   "language": "python",
   "name": "python3"
  },
  "language_info": {
   "codemirror_mode": {
    "name": "ipython",
    "version": 3
   },
   "file_extension": ".py",
   "mimetype": "text/x-python",
   "name": "python",
   "nbconvert_exporter": "python",
   "pygments_lexer": "ipython3",
   "version": "3.11.6"
  }
 },
 "nbformat": 4,
 "nbformat_minor": 2
}
