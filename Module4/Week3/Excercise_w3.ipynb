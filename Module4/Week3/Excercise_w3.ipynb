{
 "cells": [
  {
   "cell_type": "code",
   "execution_count": 1,
   "metadata": {},
   "outputs": [],
   "source": [
    "# aivietnam.ai - advertising\n",
    "import numpy as np\n",
    "# from numpy import genfromtxt\n",
    "import matplotlib.pyplot as plt\n",
    "import random\n",
    "random.seed(0) # please do not remove this line\n",
    "\n",
    "def load_data_from_file(fileName = \"advertising.csv\"):\n",
    "    data = np.genfromtxt(fileName, dtype=None, delimiter=',', skip_header=1)\n",
    "    features_X = data[:, :3]\n",
    "    sales_Y = data[:, 3]\n",
    "\n",
    "    # **************** your code here ****************\n",
    "    features_X = np.hstack([np.ones((len(features_X), 1)), features_X])\n",
    "\n",
    "    return features_X, sales_Y\n"
   ]
  },
  {
   "cell_type": "code",
   "execution_count": 2,
   "metadata": {},
   "outputs": [
    {
     "name": "stdout",
     "output_type": "stream",
     "text": [
      "[[  1.  230.1  37.8  69.2]\n",
      " [  1.   44.5  39.3  45.1]\n",
      " [  1.   17.2  45.9  69.3]\n",
      " [  1.  151.5  41.3  58.5]\n",
      " [  1.  180.8  10.8  58.4]]\n"
     ]
    }
   ],
   "source": [
    "#Question 2\n",
    "features_X, _ = load_data_from_file()\n",
    "print(features_X[:5,:])"
   ]
  },
  {
   "cell_type": "code",
   "execution_count": 3,
   "metadata": {},
   "outputs": [
    {
     "name": "stdout",
     "output_type": "stream",
     "text": [
      "(200,)\n"
     ]
    }
   ],
   "source": [
    "#Question 3\n",
    "_, sales_Y = load_data_from_file()\n",
    "print(sales_Y.shape)"
   ]
  },
  {
   "cell_type": "code",
   "execution_count": 4,
   "metadata": {},
   "outputs": [
    {
     "name": "stdout",
     "output_type": "stream",
     "text": [
      "[[3.444218515250481, 2.5795440294030247, -0.79428419169155, -2.4108324970703663]]\n"
     ]
    }
   ],
   "source": [
    "def generate_random_value(bound = 10):\n",
    "    return (random.random() - 0.5)*bound\n",
    "\n",
    "def create_individual(n=4, bound=10):\n",
    "    # **************** your code here ****************\n",
    "    individual = [[generate_random_value(10) for _ in range(n)]]\n",
    "    return individual\n",
    "\n",
    "individual = create_individual()\n",
    "print(individual)"
   ]
  },
  {
   "cell_type": "code",
   "execution_count": 5,
   "metadata": {},
   "outputs": [],
   "source": [
    "def compute_loss(individual):\n",
    "    theta = np.array(individual)\n",
    "    y_hat = features_X.dot(theta)\n",
    "    loss  = np.multiply((y_hat-sales_Y), (y_hat-sales_Y)).mean()\n",
    "    return loss\n",
    "\n",
    "def compute_fitness(individual):\n",
    "    loss = compute_loss(individual)\n",
    "    fitness_value = 0\n",
    "    # **************** your code here ****************\n",
    "    fitness_value = 1 / loss\n",
    "    return fitness_value"
   ]
  },
  {
   "cell_type": "code",
   "execution_count": 6,
   "metadata": {},
   "outputs": [
    {
     "name": "stdout",
     "output_type": "stream",
     "text": [
      "1.0186001912541925e-06\n"
     ]
    }
   ],
   "source": [
    "#question 4\n",
    "features_X, sales_Y = load_data_from_file()\n",
    "individual = [4.09, 4.82, 3.10, 4.02]\n",
    "fitness_score = compute_fitness(individual)\n",
    "print(fitness_score)"
   ]
  },
  {
   "cell_type": "code",
   "execution_count": 7,
   "metadata": {},
   "outputs": [],
   "source": [
    "def crossover(individual1, individual2, crossover_rate = 0.9):\n",
    "    individual1_new = individual1.copy()\n",
    "    individual2_new = individual2.copy()\n",
    "   # **************** your code here ****************\n",
    "\n",
    "    for i in range(len(individual1)):\n",
    "        if random.random() < crossover_rate:\n",
    "            individual1_new[i] = individual2[i]\n",
    "            individual2_new[i] = individual1[i]\n",
    "\n",
    "    return individual1_new, individual2_new\n",
    "\n"
   ]
  },
  {
   "cell_type": "code",
   "execution_count": 10,
   "metadata": {},
   "outputs": [
    {
     "name": "stdout",
     "output_type": "stream",
     "text": [
      "individual1:  [3.44, 2.57, -0.79, -2.41]\n",
      "individual2:  [4.09, 4.82, 3.1, 4.02]\n"
     ]
    }
   ],
   "source": [
    "#question 5\n",
    "individual1 = [4.09, 4.82, 3.10, 4.02]\n",
    "individual2 = [3.44, 2.57, -0.79, -2.41]\n",
    "\n",
    "individual1, individual2 = crossover(individual1, individual2, 2.0)\n",
    "print(\"individual1: \", individual1)\n",
    "print(\"individual2: \", individual2)"
   ]
  },
  {
   "cell_type": "code",
   "execution_count": 11,
   "metadata": {},
   "outputs": [],
   "source": [
    "def mutate(individual, mutation_rate = 0.05):\n",
    "    individual_m = individual.copy()\n",
    "\n",
    "    # **************** your code here ****************\n",
    "    for i in range(len(individual)):\n",
    "        if random.random() < mutation_rate:\n",
    "            individual_m[i] = generate_random_value()\n",
    "\n",
    "    return individual_m"
   ]
  },
  {
   "cell_type": "code",
   "execution_count": 12,
   "metadata": {},
   "outputs": [
    {
     "name": "stdout",
     "output_type": "stream",
     "text": [
      "False\n"
     ]
    }
   ],
   "source": [
    "#Question 6\n",
    "before_individual = [4.09, 4.82, 3.10, 4.02]\n",
    "after_individual = mutate(individual, mutation_rate = 2.0)\n",
    "print(before_individual == after_individual)"
   ]
  },
  {
   "cell_type": "code",
   "execution_count": 13,
   "metadata": {},
   "outputs": [
    {
     "name": "stdout",
     "output_type": "stream",
     "text": [
      "100\n"
     ]
    }
   ],
   "source": [
    "def initializePopulation(m):\n",
    "  population = [create_individual() for _ in range(m)]\n",
    "  return population\n",
    "\n",
    "population = initializePopulation(100)\n",
    "print(len(population))"
   ]
  },
  {
   "cell_type": "code",
   "execution_count": 14,
   "metadata": {},
   "outputs": [
    {
     "name": "stdout",
     "output_type": "stream",
     "text": [
      "[[0.7398180308237656, 1.2713968910484263, 0.3137580383797278, -0.8919549766440049]]\n"
     ]
    }
   ],
   "source": [
    "def selection(sorted_old_population, m):\n",
    "    index1 = random.randint(0, m-1)\n",
    "    while True:\n",
    "        index2 = random.randint(0, m-1)\n",
    "        if (index2 != index1):\n",
    "            break\n",
    "\n",
    "    individual_s = sorted_old_population[index1]\n",
    "    if index2 > index1:\n",
    "        individual_s = sorted_old_population[index2]\n",
    "\n",
    "    return individual_s\n",
    "\n",
    "population = initializePopulation(m=100)\n",
    "individual_s = selection(population, m = 100)\n",
    "print(individual_s)"
   ]
  },
  {
   "cell_type": "code",
   "execution_count": 15,
   "metadata": {},
   "outputs": [],
   "source": [
    "def create_new_population(old_population, elitism=2, gen=1):\n",
    "    m = len(old_population)\n",
    "    sorted_population = sorted(old_population, key=compute_fitness)\n",
    "\n",
    "    if gen%1 == 0:\n",
    "        print(\"Best loss:\", compute_loss(sorted_population[m-1]), \"with chromsome: \", sorted_population[m-1])\n",
    "\n",
    "    new_population = []\n",
    "    while len(new_population) < m-elitism:\n",
    "        # selection\n",
    "        # **************** your code here ****************\n",
    "        individual1 = selection(sorted_population)\n",
    "        individual2 = selection(sorted_population)\n",
    "\n",
    "        # crossover\n",
    "        # **************** your code here ****************\n",
    "        individual_c1, individual_c2 = crossover(individual1, individual2)\n",
    "        \n",
    "        # mutation\n",
    "        # **************** your code here ****************\n",
    "        individual_m1 = crossover(individual_c1)\n",
    "        individual_m2 = crossover(individual_c2)\n",
    "        \n",
    "        new_population.append(individual_m1)\n",
    "        new_population.append(individual_m2)\n",
    "\n",
    "        # copy elitism chromosomes that have best fitness score to the next generation\n",
    "    for ind in sorted_population[m-elitism:]:\n",
    "        # **************** your code here ****************\n",
    "        new_population.append(ind.copy())\n",
    "\n",
    "    return new_population, compute_loss(sorted_population[m-1])"
   ]
  },
  {
   "cell_type": "code",
   "execution_count": 16,
   "metadata": {},
   "outputs": [
    {
     "name": "stdout",
     "output_type": "stream",
     "text": [
      "Best loss: 123415.051528805 with chromsome:  [3.44, 2.57, -0.79, -2.41]\n"
     ]
    }
   ],
   "source": [
    "#Question 7\n",
    "individual1 = [4.09, 4.82, 3.10, 4.02]\n",
    "individual2 = [3.44, 2.57, -0.79, -2.41]\n",
    "old_population = [individual1, individual2]\n",
    "new_population, _ = create_new_population(old_population, elitism=2, gen=1)\n"
   ]
  },
  {
   "cell_type": "code",
   "execution_count": null,
   "metadata": {},
   "outputs": [],
   "source": [
    "def run_GA():\n",
    "    n_generations = 100\n",
    "    m = 600\n",
    "    features_X, sales_Y = load_data_from_file()\n",
    "    population = initializePopulation(m)\n",
    "    losses_list = []\n",
    "    for i in range(n_generations):\n",
    "        # *********** your code here *************\n",
    "        population, loss = create_new_population(population, 2, i)\n",
    "        losses_list.append(loss)\n",
    "    return losses_list\n",
    "\n",
    "losses_list = run_GA()"
   ]
  }
 ],
 "metadata": {
  "kernelspec": {
   "display_name": "Python 3",
   "language": "python",
   "name": "python3"
  },
  "language_info": {
   "codemirror_mode": {
    "name": "ipython",
    "version": 3
   },
   "file_extension": ".py",
   "mimetype": "text/x-python",
   "name": "python",
   "nbconvert_exporter": "python",
   "pygments_lexer": "ipython3",
   "version": "3.11.6"
  }
 },
 "nbformat": 4,
 "nbformat_minor": 2
}
