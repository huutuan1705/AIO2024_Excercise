{
 "cells": [
  {
   "cell_type": "code",
   "execution_count": 1,
   "metadata": {},
   "outputs": [],
   "source": [
    "import numpy as np\n",
    "import matplotlib.pyplot as plt\n",
    "import random\n",
    "\n",
    "def get_column(data, input):\n",
    "    result = [row[input] for row in data]\n",
    "    return result\n",
    "\n",
    "def prepare_data(file_name_dataset):\n",
    "    data = np.genfromtxt(file_name_dataset, delimiter=',', skip_header=1).tolist()\n",
    "    N = len(data)\n",
    "    \n",
    "    tv_data = get_column(data, 0)\n",
    "    radio_data = get_column(data, 1)\n",
    "    newspaper_data = get_column(data , 2)\n",
    "    sales_data = get_column(data , 3)\n",
    "    \n",
    "    X = [ tv_data , radio_data , newspaper_data ]\n",
    "    y = sales_data\n",
    "    \n",
    "    return X, y"
   ]
  },
  {
   "cell_type": "code",
   "execution_count": 2,
   "metadata": {},
   "outputs": [],
   "source": [
    "def initialize_params():\n",
    "    w1 , w2 , w3 , b = (0.016992259082509283, 0.0070783670518262355, -0.002307860847821344 , 0)\n",
    "    return w1 , w2 , w3 , b"
   ]
  },
  {
   "cell_type": "code",
   "execution_count": 3,
   "metadata": {},
   "outputs": [
    {
     "name": "stdout",
     "output_type": "stream",
     "text": [
      "1.0\n"
     ]
    }
   ],
   "source": [
    "def predict(x1, x2, x3, w1, w2, w3, b) :\n",
    "    result = x1*w1 + x2*w2 + x3*w3 + b\n",
    "    return result\n",
    "\n",
    "y_p = predict(x1 = 1, x2 =1, x3=1, w1=0, w2=0.5, w3=0, b=0.5)\n",
    "print(y_p)"
   ]
  },
  {
   "cell_type": "code",
   "execution_count": 4,
   "metadata": {},
   "outputs": [
    {
     "name": "stdout",
     "output_type": "stream",
     "text": [
      "0.25\n"
     ]
    }
   ],
   "source": [
    "def compute_loss_mse(y_hat, y) :\n",
    "    loss = (y_hat - y)**2\n",
    "    return loss\n",
    "\n",
    "l = compute_loss_mse(y_hat=1, y=0.5)\n",
    "print(l)"
   ]
  },
  {
   "cell_type": "code",
   "execution_count": 5,
   "metadata": {},
   "outputs": [
    {
     "name": "stdout",
     "output_type": "stream",
     "text": [
      "-1.0\n"
     ]
    }
   ],
   "source": [
    "def compute_gradient_wi(xi, y, y_hat):\n",
    "    dl_dwi = 2*xi*(y_hat-y)\n",
    "    return dl_dwi \n",
    "\n",
    "g_wi = compute_gradient_wi(xi=1.0, y=1.0, y_hat=0.5)\n",
    "print(g_wi)"
   ]
  },
  {
   "cell_type": "code",
   "execution_count": 6,
   "metadata": {},
   "outputs": [
    {
     "name": "stdout",
     "output_type": "stream",
     "text": [
      "-3.0\n"
     ]
    }
   ],
   "source": [
    "def compute_gradient_b(y, y_hat):\n",
    "    dl_db = 2*(y_hat-y)\n",
    "    return dl_db\n",
    "\n",
    "g_b =  compute_gradient_b(y=2.0, y_hat=0.5)\n",
    "print(g_b)"
   ]
  },
  {
   "cell_type": "code",
   "execution_count": 7,
   "metadata": {},
   "outputs": [
    {
     "name": "stdout",
     "output_type": "stream",
     "text": [
      "1.000005\n"
     ]
    }
   ],
   "source": [
    "def update_weight_wi(wi, dl_dwi, lr):\n",
    "    wi = wi - lr*dl_dwi\n",
    "    return wi\n",
    "\n",
    "after_wi = update_weight_wi(wi=1.0, dl_dwi=-0.5, lr = 1e-5)\n",
    "print(after_wi)"
   ]
  },
  {
   "cell_type": "code",
   "execution_count": 8,
   "metadata": {},
   "outputs": [
    {
     "name": "stdout",
     "output_type": "stream",
     "text": [
      "0.50001\n"
     ]
    }
   ],
   "source": [
    "def update_weight_b(b, dl_db, lr):    \n",
    "    b = b - lr*dl_db\n",
    "    return b\n",
    "\n",
    "after_b = update_weight_b(b=0.5, dl_db=-1.0, lr = 1e-5)\n",
    "print(after_b) "
   ]
  },
  {
   "cell_type": "code",
   "execution_count": 9,
   "metadata": {},
   "outputs": [
    {
     "name": "stdout",
     "output_type": "stream",
     "text": [
      "0.5\n"
     ]
    }
   ],
   "source": [
    "def compute_loss_mae(y_hat, y):\n",
    "    result = abs(y_hat-y)\n",
    "    return result\n",
    "\n",
    "l = compute_loss_mae(y_hat=1, y=0.5)\n",
    "print(l)"
   ]
  },
  {
   "cell_type": "code",
   "execution_count": 13,
   "metadata": {},
   "outputs": [],
   "source": [
    "\n",
    "def implement_linear_regression_nsamples(X_data, y_data, epoch_max = 50,lr = 1e-5):\n",
    "  losses = []\n",
    "\n",
    "  w1, w2, w3, b = initialize_params()\n",
    "  N = len(y_data)\n",
    "\n",
    "  for epoch in range(epoch_max):\n",
    "\n",
    "      loss_total = 0.0\n",
    "      dw1_total = 0.0\n",
    "      dw2_total = 0.0\n",
    "      dw3_total = 0.0\n",
    "      db_total  = 0.0\n",
    "\n",
    "      for i in range(N):\n",
    "          # get a sample\n",
    "          x1 = X_data[0][i]\n",
    "          x2 = X_data[1][i]\n",
    "          x3 = X_data[2][i]\n",
    "\n",
    "          y  = y_data[i]\n",
    "\n",
    "          # print(y)\n",
    "          # compute output \n",
    "          y_hat = predict(x1, x2, x3, w1, w2, w3, b)\n",
    "          \n",
    "          # compute loss \n",
    "          loss = compute_loss_mae(y, y_hat)\n",
    "          loss_total = loss_total + loss\n",
    "\n",
    "          # accumulate loss to total loss\n",
    "          #your code here *****************************\n",
    "\n",
    "          # compute gradient w1, w2, w3, b\n",
    "          dl_dw1 = compute_gradient_wi(x1, y, y_hat)\n",
    "          dl_dw2 = compute_gradient_wi(x2, y, y_hat)\n",
    "          dl_dw3 = compute_gradient_wi(x3, y, y_hat)\n",
    "          dl_db  = compute_gradient_b(y, y_hat)\n",
    "          \n",
    "          # accumulate gradient w1, w2, w3, b\n",
    "          dw1_total = dw1_total + dl_dw1\n",
    "          dw2_total = dw2_total + dl_dw2\n",
    "          dw3_total = dw3_total + dl_dw3\n",
    "          db_total = db_total + dl_db\n",
    "\n",
    "      # (after processing N samples) - update parameters\n",
    "      w1 = update_weight_wi(w1, dl_dw1/N, lr)\n",
    "      w2 = update_weight_wi(w2, dl_dw2/N, lr)\n",
    "      w3 = update_weight_wi(w3, dl_dw3/N, lr)\n",
    "\n",
    "\n",
    "      # logging\n",
    "      losses.append(loss_total/N) \n",
    "  return (w1,w2,w3,b, losses)"
   ]
  },
  {
   "cell_type": "code",
   "execution_count": 14,
   "metadata": {},
   "outputs": [
    {
     "data": {
      "image/png": "[encoded data removed]",
      "text/plain": [
       "<Figure size 640x480 with 1 Axes>"
      ]
     },
     "metadata": {},
     "output_type": "display_data"
    }
   ],
   "source": [
    "X,y = prepare_data('advertising.csv')\n",
    "(w1,w2,w3,b, losses) = implement_linear_regression_nsamples(X,y,1000)\n",
    "plt.plot(losses)\n",
    "plt.xlabel(\"#epoch\")\n",
    "plt.ylabel(\"MAE Loss\")\n",
    "plt.show()"
   ]
  },
  {
   "cell_type": "code",
   "execution_count": 15,
   "metadata": {},
   "outputs": [
    {
     "name": "stdout",
     "output_type": "stream",
     "text": [
      "0.07865323031529436 0.00936309067354943 3.4293276428081508e-06\n"
     ]
    }
   ],
   "source": [
    "X,y = prepare_data('advertising.csv')\n",
    "(w1,w2,w3,b, losses) = implement_linear_regression_nsamples(X,y,1000)\n",
    "print(w1,w2,w3)"
   ]
  }
 ],
 "metadata": {
  "kernelspec": {
   "display_name": "Python 3",
   "language": "python",
   "name": "python3"
  },
  "language_info": {
   "codemirror_mode": {
    "name": "ipython",
    "version": 3
   },
   "file_extension": ".py",
   "mimetype": "text/x-python",
   "name": "python",
   "nbconvert_exporter": "python",
   "pygments_lexer": "ipython3",
   "version": "3.11.6"
  }
 },
 "nbformat": 4,
 "nbformat_minor": 2
}
