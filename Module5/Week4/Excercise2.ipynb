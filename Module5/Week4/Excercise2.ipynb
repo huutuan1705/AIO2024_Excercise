{
 "cells": [
  {
   "cell_type": "code",
   "execution_count": 2,
   "metadata": {},
   "outputs": [],
   "source": [
    "import numpy as np"
   ]
  },
  {
   "cell_type": "code",
   "execution_count": 3,
   "metadata": {},
   "outputs": [],
   "source": [
    "def df_W(W):\n",
    "    w1, w2 = W[0], W[1]\n",
    "    dw1 = 0.2*w1\n",
    "    dw2 = 4*w2\n",
    "    \n",
    "    dW = np.array([dw1, dw2])\n",
    "    return dW"
   ]
  },
  {
   "cell_type": "code",
   "execution_count": 4,
   "metadata": {},
   "outputs": [],
   "source": [
    "def sgd(W, dW, lr, V, beta):\n",
    "    V = beta*V + (1-beta)*dW\n",
    "    W = W - lr*V\n",
    "    return W, V"
   ]
  },
  {
   "cell_type": "code",
   "execution_count": 5,
   "metadata": {},
   "outputs": [],
   "source": [
    "def train_pl(optimizer, lr, epochs):\n",
    "    W = np.array([-5, -2], dtype=np.float32)\n",
    "    V = np.array([0, 0], dtype=np.float32)\n",
    "    results = [W]\n",
    "    \n",
    "    for i in range(epochs):\n",
    "        dW = df_W(W)\n",
    "        W, V = optimizer(W, dW, lr, V, beta=0.5)\n",
    "        results.append(W)\n",
    "\n",
    "    return results"
   ]
  },
  {
   "cell_type": "code",
   "execution_count": null,
   "metadata": {},
   "outputs": [
    {
     "data": {
      "text/plain": [
       "[array([-5., -2.], dtype=float32),\n",
       " array([-4.7,  0.4]),\n",
       " array([-4.268,  1.12 ]),\n",
       " array([-3.79592,  0.136  ]),\n",
       " array([-3.3321248, -0.5192   ]),\n",
       " array([-2.90029971, -0.22376   ]),\n",
       " array([-2.51036919,  0.192472  ]),\n",
       " array([-2.16478177,  0.1696216 ]),\n",
       " array([-1.86210116, -0.04534952]),\n",
       " array([-1.59903478, -0.09841566]),\n",
       " array([-1.37155951, -0.00684994]),\n",
       " array([-1.1755283 ,  0.04715285]),\n",
       " array([-1.006981  ,  0.01757082]),\n",
       " array([-0.86228849, -0.01830518]),\n",
       " array([-0.73820492, -0.01427696]),\n",
       " array([-0.63187084,  0.0048695 ]),\n",
       " array([-0.54079155,  0.00859933]),\n",
       " array([-4.62804416e-01,  1.45050014e-04]),\n",
       " array([-0.39604258, -0.00425615]),\n",
       " array([-0.33889911, -0.00134937]),\n",
       " array([-0.28999343,  0.00172326]),\n",
       " array([-0.24814098,  0.00119166]),\n",
       " array([-0.2123263 , -0.00050413]),\n",
       " array([-0.18167938, -0.00074707]),\n",
       " array([-1.55455157e-01,  2.79448010e-05]),\n",
       " array([-0.13301574,  0.00038192]),\n",
       " array([-1.13815082e-01,  1.00603444e-04]),\n",
       " array([-0.09738585, -0.00016078]),\n",
       " array([-8.33280829e-02, -9.85353344e-05]),\n",
       " array([-7.12995144e-02,  5.08287536e-05]),\n",
       " array([-6.10072592e-02,  6.45162933e-05])]"
      ]
     },
     "execution_count": 6,
     "metadata": {},
     "output_type": "execute_result"
    }
   ],
   "source": [
    "train_pl(sgd, lr=0.6, epochs=30)"
   ]
  },
  {
   "cell_type": "code",
   "execution_count": null,
   "metadata": {},
   "outputs": [],
   "source": []
  }
 ],
 "metadata": {
  "kernelspec": {
   "display_name": "Python 3",
   "language": "python",
   "name": "python3"
  },
  "language_info": {
   "codemirror_mode": {
    "name": "ipython",
    "version": 3
   },
   "file_extension": ".py",
   "mimetype": "text/x-python",
   "name": "python",
   "nbconvert_exporter": "python",
   "pygments_lexer": "ipython3",
   "version": "3.11.6"
  }
 },
 "nbformat": 4,
 "nbformat_minor": 2
}
