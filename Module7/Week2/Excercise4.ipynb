{
 "cells": [
  {
   "cell_type": "code",
   "execution_count": null,
   "metadata": {},
   "outputs": [],
   "source": []
  },
  {
   "cell_type": "code",
   "execution_count": 1,
   "metadata": {},
   "outputs": [],
   "source": [
    "import os\n",
    "import cv2\n",
    "import torch\n",
    "import torchvision\n",
    "import numpy as np\n",
    "import pandas as pd\n",
    "import torch.nn as nn\n",
    "import albumentations as A\n",
    "import torch.optim as optim\n",
    "import matplotlib.pyplot as plt\n",
    "\n",
    "from glob import glob\n",
    "from tqdm import tqdm\n",
    "from termcolor import colored\n",
    "from matplotlib import patches\n",
    "from collections import Counter\n",
    "from torchvision import transforms\n",
    "from torch.utils.data import DataLoader\n",
    "from albumentations.pytorch import ToTensorV2"
   ]
  },
  {
   "cell_type": "code",
   "execution_count": null,
   "metadata": {},
   "outputs": [],
   "source": [
    "def convert_to_yolo_format(target, img_width, img_height, class_mapping):\n",
    "    annotations = target[\"annotation\"][\"object\"]\n",
    "    \n",
    "    real_width = int(target[\"annotation\"][\"size\"][\"width\"])\n",
    "    real_height = int(target[\"annotation\"][\"size\"][\"height\"])\n",
    "    \n",
    "    if not isinstance(annotations, list):\n",
    "        annotations = [annotations]\n",
    "        \n",
    "    boxes = []\n",
    "    \n",
    "    for anno in annotations:\n",
    "        xmin = int(anno[\"bndbox\"][\"xmin\"]) / real_width\n",
    "        xmax = int(anno[\"bndbox\"][\"xmax\"]) / real_height\n",
    "        ymin = int(anno[\"bndbox\"][\"ymin\"]) / real_width\n",
    "        ymax = int(anno[\"bndbox\"][\"ymax\"]) / real_height\n",
    "        \n",
    "        x_center = (xmin + xmax) / 2\n",
    "        y_canter = (ymin + ymax) / 2"
   ]
  },
  {
   "cell_type": "code",
   "execution_count": null,
   "metadata": {},
   "outputs": [],
   "source": [
    "class CustomVOCDataset(torchvision.datasets.VOCDetection):\n",
    "    def init_config_yolo(self, class_mapping, S=7, B=2, C=20, custom_transforms=None):\n",
    "        self.S = S\n",
    "        self.B = B\n",
    "        self.C = C\n",
    "        self.class_mapping = class_mapping\n",
    "        self.custom_transforms = custom_transforms\n",
    "        \n",
    "    def __getitem__(self, index):\n",
    "        image, target = super(CustomVOCDataset, self).__getitem__(index)\n",
    "        img_width, img_height = image.size\n",
    "        \n",
    "        "
   ]
  },
  {
   "cell_type": "code",
   "execution_count": null,
   "metadata": {},
   "outputs": [],
   "source": []
  },
  {
   "cell_type": "code",
   "execution_count": null,
   "metadata": {},
   "outputs": [],
   "source": []
  },
  {
   "cell_type": "code",
   "execution_count": null,
   "metadata": {},
   "outputs": [],
   "source": []
  },
  {
   "cell_type": "code",
   "execution_count": null,
   "metadata": {},
   "outputs": [],
   "source": []
  },
  {
   "cell_type": "code",
   "execution_count": null,
   "metadata": {},
   "outputs": [],
   "source": []
  },
  {
   "cell_type": "code",
   "execution_count": null,
   "metadata": {},
   "outputs": [],
   "source": []
  },
  {
   "cell_type": "code",
   "execution_count": null,
   "metadata": {},
   "outputs": [],
   "source": []
  },
  {
   "cell_type": "code",
   "execution_count": null,
   "metadata": {},
   "outputs": [],
   "source": []
  }
 ],
 "metadata": {
  "kernelspec": {
   "display_name": "Python 3",
   "language": "python",
   "name": "python3"
  },
  "language_info": {
   "codemirror_mode": {
    "name": "ipython",
    "version": 3
   },
   "file_extension": ".py",
   "mimetype": "text/x-python",
   "name": "python",
   "nbconvert_exporter": "python",
   "pygments_lexer": "ipython3",
   "version": "3.11.6"
  }
 },
 "nbformat": 4,
 "nbformat_minor": 2
}
