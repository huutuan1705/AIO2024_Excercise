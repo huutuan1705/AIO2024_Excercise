{
 "cells": [
  {
   "cell_type": "code",
   "execution_count": 1,
   "metadata": {},
   "outputs": [],
   "source": [
    "import cv2\n",
    "import numpy as np\n",
    "from collections import defaultdict\n",
    "from ultralytics import YOLO"
   ]
  },
  {
   "cell_type": "code",
   "execution_count": null,
   "metadata": {},
   "outputs": [],
   "source": [
    "model = YOLO(\"yolo11l.pt\")\n",
    "\n",
    "video_path = \"samples/vietnam.mp4\"\n",
    "cap = cv2.VideoCapture(video_path)"
   ]
  },
  {
   "cell_type": "code",
   "execution_count": null,
   "metadata": {},
   "outputs": [],
   "source": [
    "width = int(cap.get(cv2.CAP_PROP_FRAME_WIDTH))\n",
    "height = int(cap.get(cv2.CAP_PROP_FRAME_HEIGHT))\n",
    "fps = int(cap.get(cv2.CAP_PROP_FPS))\n",
    "\n",
    "video_name = video_path.split(\"/\")[-1]\n",
    "output_path = f\"run/{video_name.split('.')[0]}_tracked.mp4\"\n",
    "fourcc = cv2.VideoWriter_fourcc(*\"mp4v\")\n",
    "out = cv2.VideoWriter(output_path, fourcc, fps, (width, height))\n"
   ]
  },
  {
   "cell_type": "code",
   "execution_count": null,
   "metadata": {},
   "outputs": [],
   "source": [
    "track_history = defaultdict(lambda: [])\n",
    "\n",
    "while cap.isOpened():\n",
    "    success, frame = cap.read()\n",
    "    \n",
    "    if success:\n",
    "        results = model.track(frame, persist=True, show=False)\n",
    "        \n",
    "        boxes = results[0].boxes.xywh.cpu()\n",
    "        try:\n",
    "            track_ids = results[0].boxes.id\n",
    "            if track_ids is not None:\n",
    "                track_ids = track_ids.int().cpu().tolist()\n",
    "                \n",
    "            else:\n",
    "                track_ids = []\n",
    "        except AttributeError:\n",
    "            track_ids = []\n",
    "        \n",
    "        annotated_frame = results[0].plot()\n",
    "        if track_ids:\n",
    "            for box, track_id in zip(boxes, track_ids):\n",
    "                x, y, w, h = box\n",
    "                track = track_history[track_id]\n",
    "                track.append((float(x), float(y)))\n",
    "                \n",
    "                if len(track) > 120:\n",
    "                    track.pop(0)\n",
    "                    \n",
    "                points = np.hstack(track).astype(np.int32).reshape((-1, 1, 2))\n",
    "                cv2.polylines(\n",
    "                    annotated_frame, [points], \n",
    "                    isClosed=False, color=(230, 230, 230),\n",
    "                    thickness=4\n",
    "                )\n",
    "                \n",
    "        out.write(annotated_frame)\n",
    "    \n",
    "    else:\n",
    "        break\n",
    "    \n",
    "cap.release()\n",
    "out.release()\n",
    "print(f\"Video has been saved to {output_path}\")"
   ]
  },
  {
   "cell_type": "code",
   "execution_count": null,
   "metadata": {},
   "outputs": [],
   "source": []
  }
 ],
 "metadata": {
  "kernelspec": {
   "display_name": "Python 3",
   "language": "python",
   "name": "python3"
  },
  "language_info": {
   "codemirror_mode": {
    "name": "ipython",
    "version": 3
   },
   "file_extension": ".py",
   "mimetype": "text/x-python",
   "name": "python",
   "nbconvert_exporter": "python",
   "pygments_lexer": "ipython3",
   "version": "3.11.6"
  }
 },
 "nbformat": 4,
 "nbformat_minor": 2
}
