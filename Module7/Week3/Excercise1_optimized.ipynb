{
 "cells": [
  {
   "cell_type": "code",
   "execution_count": 1,
   "metadata": {},
   "outputs": [],
   "source": [
    "import cv2\n",
    "import argparse\n",
    "import numpy as np\n",
    "f\n",
    "from tqdm import tqdm\n",
    "from loguru import logger\n",
    "from ultralytics import YOLO\n",
    "from collections import defaultdict"
   ]
  },
  {
   "cell_type": "code",
   "execution_count": null,
   "metadata": {},
   "outputs": [],
   "source": [
    "def load_config():\n",
    "    return {\n",
    "        \"model_path\": \"yolo11x.pt\",\n",
    "        \"track_history_length\": 120,\n",
    "        \"batch_size\": 64,\n",
    "        \"line_thickness\": 4,\n",
    "        \"track_color\": (230, 230, 230)\n",
    "    }\n",
    "    \n",
    "def inititalize_video(video_path):\n",
    "    cap = cv2.VideoCapture(video_path)\n",
    "    width = int(cap.get(cv2.CAP_PROP_FRAME_WIDTH))\n",
    "    height = int(cap.get(cv2.CAP_PROP_FRAME_HEIGHT))\n",
    "    fps = int(cap.get(cv2.CAP_PROP_FPS))\n",
    "    \n",
    "    video_name = video_path.split(\"/\")[-1]\n",
    "    output_path = f\"run/{video_name.split('.')[0]}_tracked.mp4\"\n",
    "    fourcc = cv2.VideoWriter_fourcc(*\"mp4v\")\n",
    "    out = cv2.VideoWriter(output_path, fourcc, fps, (width, height))\n",
    "    \n",
    "    return cap, out, output_path"
   ]
  },
  {
   "cell_type": "code",
   "execution_count": null,
   "metadata": {},
   "outputs": [],
   "source": [
    "def update_track_history(\n",
    "    track_history, last_seen, track_ids, frame_count, batch_size, frame_idx, history_length\n",
    "):\n",
    "    current_tracks = set(track_ids)\n",
    "    for track_id in list(track_history.keys()):\n",
    "        if track_id in current_tracks:\n",
    "            last_seen[track_id] = frame_count - (batch_size - frame_idx - 1)\n",
    "            \n",
    "        elif frame_count - last_seen[track_id] > history_length:\n",
    "            del track_history[track_id]\n",
    "            del last_seen[track_id]"
   ]
  },
  {
   "cell_type": "code",
   "execution_count": null,
   "metadata": {},
   "outputs": [],
   "source": [
    "def draw_tracks(frame, boxes, track_ids, track_history, config):\n",
    "    if not track_ids:\n",
    "        return frame\n",
    "    \n",
    "    for box, track_id in zip(boxes, track_ids):\n",
    "        x, y, w, h = box\n",
    "        track = track_history[track_id]\n",
    "        track.append((float(x), float(y)))\n",
    "        if len(track) > config[\"track_history_length\"]:\n",
    "            track.pop(0)\n",
    "            \n",
    "        points = np.hstack(track).astype(np.int32).reshape((-1, 1, 2))\n",
    "        cv2.polylines(\n",
    "            frame, [points], isClosed=False,\n",
    "            color=config[\"track_color\"], thickness=config[\"line_thickness\"]\n",
    "        )\n",
    "    \n",
    "    return frame"
   ]
  },
  {
   "cell_type": "code",
   "execution_count": null,
   "metadata": {},
   "outputs": [],
   "source": []
  },
  {
   "cell_type": "code",
   "execution_count": null,
   "metadata": {},
   "outputs": [],
   "source": []
  }
 ],
 "metadata": {
  "kernelspec": {
   "display_name": "Python 3",
   "language": "python",
   "name": "python3"
  },
  "language_info": {
   "codemirror_mode": {
    "name": "ipython",
    "version": 3
   },
   "file_extension": ".py",
   "mimetype": "text/x-python",
   "name": "python",
   "nbconvert_exporter": "python",
   "pygments_lexer": "ipython3",
   "version": "3.11.6"
  }
 },
 "nbformat": 4,
 "nbformat_minor": 2
}
