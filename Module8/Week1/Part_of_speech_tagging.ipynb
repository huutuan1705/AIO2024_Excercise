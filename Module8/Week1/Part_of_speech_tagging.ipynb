{
 "cells": [
  {
   "cell_type": "code",
   "execution_count": null,
   "metadata": {},
   "outputs": [],
   "source": [
    "!pip install evaluate"
   ]
  },
  {
   "cell_type": "code",
   "execution_count": 1,
   "metadata": {},
   "outputs": [],
   "source": [
    "import torch\n",
    "import numpy as np\n",
    "import evaluate\n",
    "import nltk\n",
    "\n",
    "from typing import List\n",
    "from sklearn.model_selection import train_test_split\n",
    "\n",
    "nltk.download('treebank')"
   ]
  },
  {
   "cell_type": "code",
   "execution_count": null,
   "metadata": {},
   "outputs": [],
   "source": [
    "tagged_sentences = nltk.corpus.treebank.tagged_sents()\n",
    "print(\"Number of samples: \", len(tagged_sentences))\n",
    "\n",
    "sentences, sentence_tags = [], []\n",
    "for tagged_sentence in tagged_sentences:\n",
    "    sentence, tags = zip(*tagged_sentences)\n",
    "    sentences.append([word.lower() for word in sentence])\n",
    "    sentence_tags.append(tag for tag in tags)"
   ]
  },
  {
   "cell_type": "code",
   "execution_count": null,
   "metadata": {},
   "outputs": [],
   "source": [
    "train_sentences, test_sentences, train_tags, test_tags = train_test_split(\n",
    "    sentences, sentence_tags, test_size=0.3\n",
    ")\n",
    "\n",
    "valid_sentences, test_sentences, valid_tags, test_tags = train_test_split(\n",
    "    test_sentences, test_tags, test_size=0.3\n",
    ")"
   ]
  },
  {
   "cell_type": "code",
   "execution_count": null,
   "metadata": {},
   "outputs": [],
   "source": [
    "from transformers import AutoTokenizer\n",
    "from torch.utils.data import Dataset\n",
    "\n",
    "model_name = \"QCRI/bert-base-multilingual-cased-pos-english\"\n",
    "\n",
    "tokenizer = AutoTokenizer.from_pretrained(model_name, use_fast=True)\n",
    "\n",
    "MAX_LEN = 256\n",
    "\n",
    "class PosTagging_Dataset(Dataset):\n",
    "    def __init__(self, sentences: List[List[str]],\n",
    "                 tags: List[List[str]],\n",
    "                 tokenizer,\n",
    "                 label2id,\n",
    "                 max_len=MAX_LEN):\n",
    "        super().__init__()\n",
    "        self.sentences = sentences\n",
    "        self.tags = tags\n",
    "        self.tokenizer = tokenizer\n",
    "        self.label2id = label2id \n",
    "        self.max_len = max_len\n",
    "        \n",
    "    def __len__(self):\n",
    "        return len(self.sentences)\n",
    "    \n",
    "    def __getitem__(self, idx):\n",
    "        input_token = self.sentences[idx]\n",
    "        label_token = self.tags[idx]\n",
    "        \n",
    "        input_token = self.tokenizer.convert_tokens_to_ids(input_token)\n",
    "        attention_mask = [1] * len(input_token)\n",
    "        labels = [self.label2id[token] for token in label_token]\n",
    "        \n",
    "        return {\n",
    "            \"input_ids\": self.pad_and_truncate(input_token, pad_id=self.tokenizer.pad_token_id),\n",
    "            \"labels\": self.pad_and_truncate(labels, pad_id=self.label2id[\"0\"]),\n",
    "            \"attention_mask\": self.pad_and_truncate(attention_mask, pad_id=0)\n",
    "        }\n",
    "        \n",
    "    def pad_and_truncate(self, inputs: List[int], pad_id: int):\n",
    "        if len(inputs) < self.max_len:\n",
    "            padded_inputs = inputs + [pad_id] * (self.max_len - len(inputs))\n",
    "        else:\n",
    "            padded_inputs = inputs[:self.max_len]\n",
    "\n",
    "        return torch.as_tensor(padded_inputs)"
   ]
  },
  {
   "cell_type": "code",
   "execution_count": null,
   "metadata": {},
   "outputs": [],
   "source": [
    "train_dataset = PosTagging_Dataset(train_sentences, train_tags, tokenizer, label2id)"
   ]
  },
  {
   "cell_type": "code",
   "execution_count": null,
   "metadata": {},
   "outputs": [],
   "source": []
  },
  {
   "cell_type": "code",
   "execution_count": null,
   "metadata": {},
   "outputs": [],
   "source": []
  },
  {
   "cell_type": "code",
   "execution_count": null,
   "metadata": {},
   "outputs": [],
   "source": []
  },
  {
   "cell_type": "code",
   "execution_count": null,
   "metadata": {},
   "outputs": [],
   "source": []
  },
  {
   "cell_type": "code",
   "execution_count": null,
   "metadata": {},
   "outputs": [],
   "source": []
  },
  {
   "cell_type": "code",
   "execution_count": null,
   "metadata": {},
   "outputs": [],
   "source": []
  }
 ],
 "metadata": {
  "kernelspec": {
   "display_name": "Python 3",
   "language": "python",
   "name": "python3"
  },
  "language_info": {
   "codemirror_mode": {
    "name": "ipython",
    "version": 3
   },
   "file_extension": ".py",
   "mimetype": "text/x-python",
   "name": "python",
   "nbconvert_exporter": "python",
   "pygments_lexer": "ipython3",
   "version": "3.11.6"
  }
 },
 "nbformat": 4,
 "nbformat_minor": 2
}
